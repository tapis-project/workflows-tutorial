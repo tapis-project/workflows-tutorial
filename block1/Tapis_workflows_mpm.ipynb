{
 "cells": [
  {
   "cell_type": "markdown",
   "metadata": {
    "pycharm": {
     "name": "#%% md\n"
    }
   },
   "source": [
    "# Tapis v3 Hands-on\n",
    "\n",
    "In this notebook, you will use Tapis v3 to create two systems and an application that will be used to run\n",
    "an MPM job on a HPC like VM.\n",
    "\n",
    "To execute each `In[#]` cell, you can click inside the cell and press `Shift + Enter`\n",
    "\n",
    "## Enter training account information\n",
    "\n",
    "To get things started, please run the following and enter the training account information provided to you. The username and password will be same trainingXX/trainingXX"
   ]
  },
  {
   "cell_type": "code",
   "execution_count": 104,
   "metadata": {
    "collapsed": false,
    "jupyter": {
     "outputs_hidden": false
    },
    "pycharm": {
     "name": "#%%\n"
    }
   },
   "outputs": [
    {
     "name": "stdin",
     "output_type": "stream",
     "text": [
      "Username:  training1\n",
      "Password:  ········\n"
     ]
    }
   ],
   "source": [
    "import getpass\n",
    "\n",
    "tenant = 'training'\n",
    "base_url = 'https://' + tenant + '.tapis.io'\n",
    "\n",
    "username = input('Username: ')\n",
    "password = getpass.getpass(prompt='Password: ', stream=None)\n"
   ]
  },
  {
   "cell_type": "markdown",
   "metadata": {
    "pycharm": {
     "name": "#%% md\n"
    }
   },
   "source": [
    "## Authenticate and initialize Tapis v3 client\n",
    "\n",
    "Using this information, you can now use `tapipy` to authenticate in the tenant and initialize the\n",
    "Tapis v3 client. You should see your token information displayed. This may take a while to run but should take\n",
    "no more than 30 seconds."
   ]
  },
  {
   "cell_type": "code",
   "execution_count": 105,
   "metadata": {
    "collapsed": false,
    "jupyter": {
     "outputs_hidden": false
    },
    "pycharm": {
     "name": "#%%\n"
    }
   },
   "outputs": [],
   "source": [
    "from tapipy.tapis import Tapis\n",
    "#Create python Tapis client for user\n",
    "client = Tapis(base_url= base_url, username=username, password=password)\n",
    "# *** Tapis v3: Call to Tokens API\n",
    "client.get_tokens()\n",
    "# Print Tapis v3 token\n",
    "client.access_token"
   ]
  },
  {
   "cell_type": "markdown",
   "metadata": {},
   "source": [
    "In order to create Tapis Systems, we need an actual user on the VM. For simplicity we have created the same trainingXX user on the host. The password will be the alphanumeric provided to you."
   ]
  },
  {
   "cell_type": "code",
   "execution_count": null,
   "metadata": {},
   "outputs": [],
   "source": [
    "password_vm = getpass.getpass(prompt='Password for VM: ', stream=None)\n",
    "host = input('Host: ')"
   ]
  },
  {
   "cell_type": "markdown",
   "metadata": {
    "pycharm": {
     "name": "#%% md\n"
    }
   },
   "source": [
    "## Systems\n",
    "\n",
    "In this section we create a Tapis systems, one for running on a VM host using FORK and one for running on an HPC type host using BATCH.\n",
    "\n",
    "Note that although it is possible, we have not provided any login credentials in the system definitions.\n",
    "Well-crafted system definitions are likely to be copied and re-used, so, for security reasons, it is recommended that\n",
    "login credentials be registered using separate API calls as discussed below.\n",
    "\n",
    "### Create a system for the VM host"
   ]
  },
  {
   "cell_type": "code",
   "execution_count": 66,
   "metadata": {
    "collapsed": false,
    "jupyter": {
     "outputs_hidden": false
    },
    "pycharm": {
     "is_executing": true,
     "name": "#%%\n"
    }
   },
   "outputs": [
    {
     "name": "stdout",
     "output_type": "stream",
     "text": [
      "****************************************************\n",
      "Create system: tapis-vm-training1\n",
      "****************************************************\n"
     ]
    },
    {
     "data": {
      "text/plain": [
       "\n",
       "url: http://training.tapis.io/v3/systems/tapis-vm-training1"
      ]
     },
     "execution_count": 66,
     "metadata": {},
     "output_type": "execute_result"
    }
   ],
   "source": [
    "user_id = username\n",
    "system_id_vm = \"tapis-vm-\" + user_id \n",
    "\n",
    "# Create the system definition\n",
    "exec_system_vm = {\n",
    "  \"id\": system_id_vm,\n",
    "  \"description\": \"Test system\",\n",
    "  \"systemType\": \"LINUX\",\n",
    "  \"host\": host,\n",
    "  \"defaultAuthnMethod\": \"PASSWORD\",\n",
    "  \"rootDir\": \"/home/\"+user_id,\n",
    "  \"canExec\": True,\n",
    "  \"jobRuntimes\": [ { \"runtimeType\": \"SINGULARITY\" } ],\n",
    "  \"jobWorkingDir\": \"workdir\",\n",
    "}\n",
    "\n",
    "# Use the client to create the system in Tapis\n",
    "print(\"****************************************************\")\n",
    "print(\"Create system: \" + system_id_vm)\n",
    "print(\"****************************************************\")\n",
    "client.systems.createSystem(**exec_system_vm)\n",
    "\n",
    "\n",
    "# If you need to update the system, you can modify the original definition and use the putSystem call.\n",
    "# - modify the above definition as needed\n",
    "# - comment out the above line with the call to createSystem()\n",
    "# - uncomment the below line with the call to updateSystem()\n",
    "# - re-run the cell\n",
    "# Note that not all attributes may be updated.\n",
    "#client.systems.putSystem(**exec_system_vm, systemId=system_id_vm)"
   ]
  },
  {
   "cell_type": "code",
   "execution_count": 67,
   "metadata": {
    "collapsed": false,
    "jupyter": {
     "outputs_hidden": false
    },
    "pycharm": {
     "name": "#%%\n"
    }
   },
   "outputs": [
    {
     "data": {
      "text/plain": [
       "\n",
       "url: http://training.tapis.io/v3/systems/tapis-vm-training1"
      ]
     },
     "execution_count": 67,
     "metadata": {},
     "output_type": "execute_result"
    }
   ],
   "source": [
    "# You can also update just a few attributes using the patchSystem call.\n",
    "# Note that not all attributes may be updated and some attributes, such as *enabled*,\n",
    "#   may only be updated using a specific call.\n",
    "# For example, to update the description, first define the json to be used:\n",
    "patch_system_vm = {\n",
    "  \"description\": \"System for testing jobs on a VM for Tapis tutorial\"\n",
    "}\n",
    "\n",
    "# Then use the client to make the update:\n",
    "client.systems.patchSystem(**patch_system_vm, systemId=system_id_vm)"
   ]
  },
  {
   "cell_type": "code",
   "execution_count": 102,
   "metadata": {
    "collapsed": false,
    "jupyter": {
     "outputs_hidden": false
    },
    "pycharm": {
     "name": "#%%\n"
    }
   },
   "outputs": [
    {
     "name": "stdout",
     "output_type": "stream",
     "text": [
      "****************************************************\n",
      "List all systems\n",
      "****************************************************\n"
     ]
    },
    {
     "data": {
      "text/plain": [
       "[]"
      ]
     },
     "execution_count": 102,
     "metadata": {},
     "output_type": "execute_result"
    }
   ],
   "source": [
    "# List all systems available to you\n",
    "print(\"****************************************************\")\n",
    "print(\"List all systems\")\n",
    "print(\"****************************************************\")\n",
    "client.systems.getSystems()"
   ]
  },
  {
   "cell_type": "code",
   "execution_count": 101,
   "metadata": {},
   "outputs": [
    {
     "data": {
      "text/plain": [
       "\n",
       "changes: 1"
      ]
     },
     "execution_count": 101,
     "metadata": {},
     "output_type": "execute_result"
    }
   ],
   "source": [
    "#client.systems.deleteSystem(systemId='tapis-vm-training1')"
   ]
  },
  {
   "cell_type": "code",
   "execution_count": 108,
   "metadata": {
    "collapsed": false,
    "jupyter": {
     "outputs_hidden": false
    },
    "pycharm": {
     "name": "#%%\n"
    }
   },
   "outputs": [
    {
     "name": "stdout",
     "output_type": "stream",
     "text": [
      "****************************************************\n",
      "Fetch system: tapis-vm-training1\n",
      "****************************************************\n"
     ]
    }
   ],
   "source": [
    "# Get details for the system you created\n",
    "print(\"****************************************************\")\n",
    "print(\"Fetch system: \" + system_id_vm)\n",
    "print(\"****************************************************\")\n",
    "client.systems.getSystem(systemId=system_id_vm)"
   ]
  },
  {
   "cell_type": "markdown",
   "metadata": {
    "pycharm": {
     "name": "#%% md\n"
    }
   },
   "source": [
    "### Register Credentials for the VM system\n",
    "\n",
    "After creating the system, you will need to register credentials for your username. These will be used by Tapis to\n",
    "access the host. Various authentication methods can be used to access a system, such as PASSWORD and PKI_KEYS. For the\n",
    "VM a password is used."
   ]
  },
  {
   "cell_type": "code",
   "execution_count": 70,
   "metadata": {
    "collapsed": false,
    "jupyter": {
     "outputs_hidden": false
    },
    "pycharm": {
     "name": "#%%\n"
    }
   },
   "outputs": [
    {
     "data": {
      "text/plain": [
       "{'result': None,\n",
       " 'status': 'success',\n",
       " 'message': 'SYSAPI_CRED_UPDATED Credential updated. jwtTenant: training jwtUser: training1 OboTenant: training OboUser: training1 System: tapis-vm-training1 User: training1',\n",
       " 'version': '1.3.3',\n",
       " 'commit': '8c66599c',\n",
       " 'build': '2023-06-01T13:10:24Z',\n",
       " 'metadata': None}"
      ]
     },
     "execution_count": 70,
     "metadata": {},
     "output_type": "execute_result"
    }
   ],
   "source": [
    "# Register credentials\n",
    "client.systems.createUserCredential(systemId=system_id_vm, userName=user_id, password=password_vm)"
   ]
  },
  {
   "cell_type": "markdown",
   "metadata": {
    "pycharm": {
     "name": "#%% md\n"
    }
   },
   "source": [
    "Now you can use the client to list files on the system. This will confirm that the credentials are valid."
   ]
  },
  {
   "cell_type": "code",
   "execution_count": 71,
   "metadata": {
    "collapsed": false,
    "jupyter": {
     "outputs_hidden": false
    },
    "pycharm": {
     "name": "#%%\n"
    }
   },
   "outputs": [
    {
     "data": {
      "text/plain": [
       "[\n",
       " group: 1052\n",
       " lastModified: 2023-06-28T22:08:46Z\n",
       " mimeType: None\n",
       " name: .bash_history\n",
       " nativePermissions: rw-------\n",
       " owner: 1052\n",
       " path: .bash_history\n",
       " size: 2039\n",
       " type: file\n",
       " url: tapis://tapis-vm-training1/.bash_history,\n",
       " \n",
       " group: 1052\n",
       " lastModified: 2022-08-02T07:41:39Z\n",
       " mimeType: None\n",
       " name: .bash_logout\n",
       " nativePermissions: rw-r--r--\n",
       " owner: 1052\n",
       " path: .bash_logout\n",
       " size: 18\n",
       " type: file\n",
       " url: tapis://tapis-vm-training1/.bash_logout,\n",
       " \n",
       " group: 1052\n",
       " lastModified: 2022-08-02T07:41:39Z\n",
       " mimeType: None\n",
       " name: .bash_profile\n",
       " nativePermissions: rw-r--r--\n",
       " owner: 1052\n",
       " path: .bash_profile\n",
       " size: 141\n",
       " type: file\n",
       " url: tapis://tapis-vm-training1/.bash_profile,\n",
       " \n",
       " group: 1052\n",
       " lastModified: 2022-08-02T07:41:39Z\n",
       " mimeType: None\n",
       " name: .bashrc\n",
       " nativePermissions: rw-r--r--\n",
       " owner: 1052\n",
       " path: .bashrc\n",
       " size: 376\n",
       " type: file\n",
       " url: tapis://tapis-vm-training1/.bashrc,\n",
       " \n",
       " group: 1052\n",
       " lastModified: 2023-06-28T17:54:21Z\n",
       " mimeType: None\n",
       " name: .viminfo\n",
       " nativePermissions: rw-------\n",
       " owner: 1052\n",
       " path: .viminfo\n",
       " size: 1779\n",
       " type: file\n",
       " url: tapis://tapis-vm-training1/.viminfo,\n",
       " \n",
       " group: 1052\n",
       " lastModified: 2023-06-27T16:05:13Z\n",
       " mimeType: None\n",
       " name: workdir\n",
       " nativePermissions: rwxrwxr-x\n",
       " owner: 1052\n",
       " path: workdir\n",
       " size: 18\n",
       " type: dir\n",
       " url: tapis://tapis-vm-training1/workdir]"
      ]
     },
     "execution_count": 71,
     "metadata": {},
     "output_type": "execute_result"
    }
   ],
   "source": [
    "# List files at the rootDir for the system\n",
    "client.files.listFiles(systemId=system_id_vm, path=\"/\")"
   ]
  },
  {
   "cell_type": "markdown",
   "metadata": {
    "pycharm": {
     "name": "#%% md\n"
    }
   },
   "source": [
    "### Create a system for the HPC cluster\n",
    "\n",
    "With just a few changes to the system definition you can create a second system that can be used to run the\n",
    "same application on an HPC type host. Note the minimal changes:\n",
    "\n",
    "* **id** - A unique id is required\n",
    "* **host** - Main hostname for the HPC system.\n",
    "* **rootDir** - Using the root directory of the host gives us flexibility in setting **jobWorkingDir**.\n",
    "  Note that you still need LINUX permissions.\n",
    "* **jobWorkingDir** - Now determined dynamically using the Tapis v3 function HOST_EVAL()\n",
    "* **jobRuntimes** - Most HPC systems support singularity and not docker\n",
    "* **batchLogicalQueue.hpcQueueName** - HPC queue to use by default.\n",
    "* **batchLogicalQueues** - HPC queue definitions for this HPC system."
   ]
  },
  {
   "cell_type": "code",
   "execution_count": 72,
   "metadata": {
    "collapsed": false,
    "jupyter": {
     "outputs_hidden": false
    },
    "pycharm": {
     "is_executing": true,
     "name": "#%%\n"
    }
   },
   "outputs": [
    {
     "name": "stdout",
     "output_type": "stream",
     "text": [
      "****************************************************\n",
      "Create system: tapis-hpc-training1\n",
      "****************************************************\n"
     ]
    },
    {
     "data": {
      "text/plain": [
       "\n",
       "url: http://training.tapis.io/v3/systems/tapis-hpc-training1"
      ]
     },
     "execution_count": 72,
     "metadata": {},
     "output_type": "execute_result"
    }
   ],
   "source": [
    "user_id = username\n",
    "system_id_hpc = \"tapis-hpc-\" + user_id \n",
    "\n",
    "# Create the system definition\n",
    "exec_system_hpc = {\n",
    "  \"id\": system_id_hpc,\n",
    "  \"description\": \"System for testing jobs on an HPC type host for tapis tutorial\",\n",
    "  \"systemType\": \"LINUX\",\n",
    "  \"host\": host,\n",
    "  \"defaultAuthnMethod\": \"PASSWORD\",\n",
    "  \"rootDir\": \"/home/\"+user_id,\n",
    "  \"canExec\": True,\n",
    "  \"jobRuntimes\": [ { \"runtimeType\": \"SINGULARITY\" } ],\n",
    "  \"jobWorkingDir\": \"workdir\",\n",
    "  \"canRunBatch\": True,\n",
    "  \"batchScheduler\": \"SLURM\",\n",
    "  \"batchSchedulerProfile\": \"tacc\",\n",
    "  \"batchDefaultLogicalQueue\": \"tapisNormal\",\n",
    "  \"batchLogicalQueues\": [\n",
    "    {\n",
    "      \"name\": \"tapisNormal\",\n",
    "      \"hpcQueueName\": \"normal\",\n",
    "      \"maxJobs\": 50,\n",
    "      \"maxJobsPerUser\": 10,\n",
    "      \"minNodeCount\": 1,\n",
    "      \"maxNodeCount\": 16,\n",
    "      \"minCoresPerNode\": 1,\n",
    "      \"maxCoresPerNode\": 68,\n",
    "      \"minMemoryMB\": 1,\n",
    "      \"maxMemoryMB\": 16384,\n",
    "      \"minMinutes\": 1,\n",
    "      \"maxMinutes\": 60\n",
    "    }\n",
    "  ]\n",
    "}\n",
    "\n",
    "# Use the client to create the system in Tapis\n",
    "print(\"****************************************************\")\n",
    "print(\"Create system: \" + system_id_hpc)\n",
    "print(\"****************************************************\")\n",
    "client.systems.createSystem(**exec_system_hpc)\n",
    "\n",
    "# If you need to update the system,\n",
    "# - modify the above definition as needed\n",
    "# - comment out the above line\n",
    "# - uncomment the below line\n",
    "# - re-run the cell\n",
    "#client.systems.putSystem(**exec_system_hpc, systemId=system_id_hpc)\n"
   ]
  },
  {
   "cell_type": "code",
   "execution_count": 109,
   "metadata": {
    "collapsed": false,
    "jupyter": {
     "outputs_hidden": false
    },
    "pycharm": {
     "name": "#%%\n"
    }
   },
   "outputs": [
    {
     "name": "stdout",
     "output_type": "stream",
     "text": [
      "****************************************************\n",
      "List all systems\n",
      "****************************************************\n"
     ]
    },
    {
     "data": {
      "text/plain": [
       "[]"
      ]
     },
     "execution_count": 109,
     "metadata": {},
     "output_type": "execute_result"
    }
   ],
   "source": [
    "# List all systems available to you\n",
    "print(\"****************************************************\")\n",
    "print(\"List all systems\")\n",
    "print(\"****************************************************\")\n",
    "client.systems.getSystems()"
   ]
  },
  {
   "cell_type": "code",
   "execution_count": 110,
   "metadata": {
    "collapsed": false,
    "jupyter": {
     "outputs_hidden": false
    },
    "pycharm": {
     "name": "#%%\n"
    }
   },
   "outputs": [
    {
     "name": "stdout",
     "output_type": "stream",
     "text": [
      "****************************************************\n",
      "Fetch system: tapis-hpc-training1\n",
      "****************************************************\n"
     ]
    }
   ],
   "source": [
    "# Get details for the system you created\n",
    "print(\"****************************************************\")\n",
    "print(\"Fetch system: \" + system_id_hpc)\n",
    "print(\"****************************************************\")\n",
    "sclient.systems.getSystem(systemId=system_id_hpc)"
   ]
  },
  {
   "cell_type": "markdown",
   "metadata": {
    "pycharm": {
     "name": "#%% md\n"
    }
   },
   "source": [
    "### Register Credentials for the HPC system\n",
    "\n",
    "As before, now you will need to register credentials for your username. These will be used by Tapis to\n",
    "access the host."
   ]
  },
  {
   "cell_type": "code",
   "execution_count": 75,
   "metadata": {
    "collapsed": false,
    "jupyter": {
     "outputs_hidden": false
    },
    "pycharm": {
     "name": "#%%\n"
    }
   },
   "outputs": [
    {
     "data": {
      "text/plain": [
       "{'result': None,\n",
       " 'status': 'success',\n",
       " 'message': 'SYSAPI_CRED_UPDATED Credential updated. jwtTenant: training jwtUser: training1 OboTenant: training OboUser: training1 System: tapis-hpc-training1 User: training1',\n",
       " 'version': '1.3.3',\n",
       " 'commit': '8c66599c',\n",
       " 'build': '2023-06-01T13:10:24Z',\n",
       " 'metadata': None}"
      ]
     },
     "execution_count": 75,
     "metadata": {},
     "output_type": "execute_result"
    }
   ],
   "source": [
    "password_hpc = password_vm\n",
    "# Register credentials\n",
    "client.systems.createUserCredential(systemId=system_id_hpc, userName=user_id, password=password_hpc)"
   ]
  },
  {
   "cell_type": "markdown",
   "metadata": {
    "pycharm": {
     "name": "#%% md\n"
    }
   },
   "source": [
    "Now you can use the client to list files on the system. This will confirm that the credentials are valid."
   ]
  },
  {
   "cell_type": "code",
   "execution_count": 76,
   "metadata": {
    "collapsed": false,
    "jupyter": {
     "outputs_hidden": false
    },
    "pycharm": {
     "name": "#%%\n"
    }
   },
   "outputs": [
    {
     "data": {
      "text/plain": [
       "[\n",
       " group: 1052\n",
       " lastModified: 2023-06-28T22:08:46Z\n",
       " mimeType: None\n",
       " name: .bash_history\n",
       " nativePermissions: rw-------\n",
       " owner: 1052\n",
       " path: .bash_history\n",
       " size: 2039\n",
       " type: file\n",
       " url: tapis://tapis-hpc-training1/.bash_history,\n",
       " \n",
       " group: 1052\n",
       " lastModified: 2022-08-02T07:41:39Z\n",
       " mimeType: None\n",
       " name: .bash_logout\n",
       " nativePermissions: rw-r--r--\n",
       " owner: 1052\n",
       " path: .bash_logout\n",
       " size: 18\n",
       " type: file\n",
       " url: tapis://tapis-hpc-training1/.bash_logout,\n",
       " \n",
       " group: 1052\n",
       " lastModified: 2022-08-02T07:41:39Z\n",
       " mimeType: None\n",
       " name: .bash_profile\n",
       " nativePermissions: rw-r--r--\n",
       " owner: 1052\n",
       " path: .bash_profile\n",
       " size: 141\n",
       " type: file\n",
       " url: tapis://tapis-hpc-training1/.bash_profile,\n",
       " \n",
       " group: 1052\n",
       " lastModified: 2022-08-02T07:41:39Z\n",
       " mimeType: None\n",
       " name: .bashrc\n",
       " nativePermissions: rw-r--r--\n",
       " owner: 1052\n",
       " path: .bashrc\n",
       " size: 376\n",
       " type: file\n",
       " url: tapis://tapis-hpc-training1/.bashrc,\n",
       " \n",
       " group: 1052\n",
       " lastModified: 2023-06-28T17:54:21Z\n",
       " mimeType: None\n",
       " name: .viminfo\n",
       " nativePermissions: rw-------\n",
       " owner: 1052\n",
       " path: .viminfo\n",
       " size: 1779\n",
       " type: file\n",
       " url: tapis://tapis-hpc-training1/.viminfo,\n",
       " \n",
       " group: 1052\n",
       " lastModified: 2023-06-27T16:05:13Z\n",
       " mimeType: None\n",
       " name: workdir\n",
       " nativePermissions: rwxrwxr-x\n",
       " owner: 1052\n",
       " path: workdir\n",
       " size: 18\n",
       " type: dir\n",
       " url: tapis://tapis-hpc-training1/workdir]"
      ]
     },
     "execution_count": 76,
     "metadata": {},
     "output_type": "execute_result"
    }
   ],
   "source": [
    "# List files at the rootDir for the system\n",
    "path_to_list = \"/\"\n",
    "client.files.listFiles(systemId=system_id_hpc, path=path_to_list)"
   ]
  },
  {
   "cell_type": "markdown",
   "metadata": {
    "pycharm": {
     "name": "#%% md\n"
    }
   },
   "source": [
    "## Application\n",
    "\n",
    "In order to run a job on a system you will need to create a Tapis application.\n",
    "\n",
    "### Create an application that can be run on the VM host or the HPC cluster"
   ]
  },
  {
   "cell_type": "code",
   "execution_count": 78,
   "metadata": {
    "collapsed": false,
    "jupyter": {
     "outputs_hidden": false
    },
    "pycharm": {
     "is_executing": true,
     "name": "#%%\n"
    }
   },
   "outputs": [
    {
     "name": "stdout",
     "output_type": "stream",
     "text": [
      "****************************************************\n",
      "Create application: mpm-docker-training1\n",
      "****************************************************\n"
     ]
    },
    {
     "data": {
      "text/plain": [
       "\n",
       "url: http://training.tapis.io/v3/apps/mpm-docker-training1"
      ]
     },
     "execution_count": 78,
     "metadata": {},
     "output_type": "execute_result"
    }
   ],
   "source": [
    "user_id = username\n",
    "app_id = \"mpm-docker-\" + user_id \n",
    "\n",
    "# Create the application definition\n",
    "app_def = {\n",
    "    \"id\": app_id,\n",
    "    \"version\": \"dev\",\n",
    "    \"jobType\": \"FORK\",\n",
    "    \"runtime\": \"DOCKER\",\n",
    "    \"description\": \"High-Performance Material Point Method (CB-Geo mpm) DEVELOPMENT version.\",\n",
    "    \"containerImage\": \"tapis/mpm:dev\",\n",
    "    \"jobAttributes\": {\n",
    "        \"isMpi\": False,\n",
    "        \"parameterSet\": {\n",
    "            \"appArgs\": [\n",
    "                {\"name\": \"directoryInputFlag\", \"arg\": \"-f\", \"inputMode\": \"FIXED\"},\n",
    "                {\"name\": \"directoryInput\", \"arg\": \"/home/cbgeo/research/mpm-benchmarks/2d/uniaxial_stress/\", \"inputMode\": \"REQUIRED\"}\n",
    "            ] \n",
    "        },\n",
    "        \"fileInputs\": [\n",
    "            {\n",
    "                \"name\": \"directoryInput\",\n",
    "                \"inputMode\": \"OPTIONAL\",\n",
    "                \"targetPath\": \".\",\n",
    "                \"description\": \"Input directory that contains the MPM congiguration file as well as any other required files. Note that to utilize this attribute one must also set the directoryInput parameter to mbe the value of the name of the directory. Also note that if this directory is not provided, a default (included in the appliation container image) will be used.\"\n",
    "            }\n",
    "        ]\n",
    "    }\n",
    "\n",
    "}\n",
    "\n",
    "# Use the client to create the application in Tapis\n",
    "print(\"****************************************************\")\n",
    "print(\"Create application: \" + app_id)\n",
    "print(\"****************************************************\")\n",
    "client.apps.createAppVersion(**app_def)\n",
    "\n",
    "# If you need to update the application,\n",
    "# - modify the above definition as needed\n",
    "# - comment out the above line\n",
    "# - uncomment the below line\n",
    "# - re-run the cell\n",
    "#client.apps.putApp(**app_def, appId=app_id, appVersion=\"0.0.1\")"
   ]
  },
  {
   "cell_type": "code",
   "execution_count": 79,
   "metadata": {
    "collapsed": false,
    "jupyter": {
     "outputs_hidden": false
    },
    "pycharm": {
     "name": "#%%\n"
    }
   },
   "outputs": [
    {
     "name": "stdout",
     "output_type": "stream",
     "text": [
      "****************************************************\n",
      "List all applications\n",
      "****************************************************\n"
     ]
    },
    {
     "data": {
      "text/plain": [
       "[\n",
       " id: mpm-docker-training1\n",
       " owner: training1\n",
       " version: dev]"
      ]
     },
     "execution_count": 79,
     "metadata": {},
     "output_type": "execute_result"
    }
   ],
   "source": [
    "# List all applications available to you\n",
    "print(\"****************************************************\")\n",
    "print(\"List all applications\")\n",
    "print(\"****************************************************\")\n",
    "client.apps.getApps()"
   ]
  },
  {
   "cell_type": "code",
   "execution_count": 80,
   "metadata": {
    "collapsed": false,
    "jupyter": {
     "outputs_hidden": false
    },
    "pycharm": {
     "name": "#%%\n"
    }
   },
   "outputs": [
    {
     "name": "stdout",
     "output_type": "stream",
     "text": [
      "****************************************************\n",
      "Fetch application: mpm-docker-training1\n",
      "****************************************************\n"
     ]
    },
    {
     "data": {
      "text/plain": [
       "\n",
       "containerImage: tapis/mpm:dev\n",
       "created: 2023-06-29T18:57:33.270104Z\n",
       "deleted: False\n",
       "description: High-Performance Material Point Method (CB-Geo mpm) DEVELOPMENT version.\n",
       "enabled: True\n",
       "id: mpm-docker-training1\n",
       "isPublic: True\n",
       "jobAttributes: \n",
       "archiveOnAppError: False\n",
       "archiveSystemDir: None\n",
       "archiveSystemId: None\n",
       "cmdPrefix: None\n",
       "coresPerNode: 1\n",
       "description: None\n",
       "dynamicExecSystem: False\n",
       "execSystemConstraints: None\n",
       "execSystemExecDir: None\n",
       "execSystemId: None\n",
       "execSystemInputDir: None\n",
       "execSystemLogicalQueue: None\n",
       "execSystemOutputDir: None\n",
       "fileInputArrays: []\n",
       "fileInputs: [\n",
       "autoMountLocal: True\n",
       "description: Input directory that contains the MPM congiguration file as well as any other required files. Note that to utilize this attribute one must also set the directoryInput parameter to mbe the value of the name of the directory. Also note that if this directory is not provided, a default (included in the appliation container image) will be used.\n",
       "inputMode: OPTIONAL\n",
       "name: directoryInput\n",
       "sourceUrl: None\n",
       "targetPath: .]\n",
       "isMpi: False\n",
       "maxMinutes: 10\n",
       "memoryMB: 100\n",
       "mpiCmd: None\n",
       "nodeCount: 1\n",
       "parameterSet: \n",
       "appArgs: [\n",
       "arg: -f\n",
       "description: None\n",
       "inputMode: FIXED\n",
       "name: directoryInputFlag\n",
       "notes: \n",
       ", \n",
       "arg: /home/cbgeo/research/mpm-benchmarks/2d/uniaxial_stress/\n",
       "description: None\n",
       "inputMode: REQUIRED\n",
       "name: directoryInput\n",
       "notes: \n",
       "]\n",
       "archiveFilter: \n",
       "excludes: []\n",
       "includeLaunchFiles: True\n",
       "includes: []\n",
       "containerArgs: []\n",
       "envVariables: []\n",
       "schedulerOptions: []\n",
       "subscriptions: []\n",
       "tags: []\n",
       "jobType: FORK\n",
       "maxJobs: 2147483647\n",
       "maxJobsPerUser: 2147483647\n",
       "notes: \n",
       "\n",
       "owner: training1\n",
       "runtime: DOCKER\n",
       "runtimeOptions: None\n",
       "runtimeVersion: None\n",
       "sharedAppCtx: None\n",
       "strictFileInputs: False\n",
       "tags: []\n",
       "tenant: training\n",
       "updated: 2023-06-29T18:57:33.270104Z\n",
       "uuid: 77a8daa8-4118-414d-a1cb-de7a5cee1a0d\n",
       "version: dev"
      ]
     },
     "execution_count": 80,
     "metadata": {},
     "output_type": "execute_result"
    }
   ],
   "source": [
    "# Get details for the application you created\n",
    "print(\"****************************************************\")\n",
    "print(\"Fetch application: \" + app_id)\n",
    "print(\"****************************************************\")\n",
    "client.apps.getAppLatestVersion(appId=app_id)"
   ]
  },
  {
   "cell_type": "markdown",
   "metadata": {
    "pycharm": {
     "name": "#%% md\n"
    }
   },
   "source": [
    "## Jobs\n",
    "\n",
    "We will run two jobs, one on the VM host using FORK and one on the HPC type host using BATCH.\n",
    "\n",
    "We will use the same Tapis application to run both jobs.\n",
    "\n",
    "### Part 1: Run Material Point Method (MPM) app on a Virtual Machine.\n"
   ]
  },
  {
   "cell_type": "code",
   "execution_count": 81,
   "metadata": {
    "collapsed": false,
    "jupyter": {
     "outputs_hidden": false
    },
    "pycharm": {
     "is_executing": true,
     "name": "#%%\n"
    }
   },
   "outputs": [],
   "source": [
    "# Run MPM app on a Virtual Machine\n",
    "\n",
    "# Submit a job\n",
    "job_response_vm=client.jobs.submitJob(name='mpm-job-vm',description='material point method',appId=app_id,execSystemId=system_id_vm,appVersion= 'dev')"
   ]
  },
  {
   "cell_type": "markdown",
   "metadata": {
    "pycharm": {
     "name": "#%% md\n"
    }
   },
   "source": [
    "### Get Job submission response\n"
   ]
  },
  {
   "cell_type": "code",
   "execution_count": 82,
   "metadata": {
    "collapsed": false,
    "jupyter": {
     "outputs_hidden": false
    },
    "pycharm": {
     "name": "#%%\n"
    }
   },
   "outputs": [
    {
     "name": "stdout",
     "output_type": "stream",
     "text": [
      "****************************************************\n",
      "Job Submitted: mpm-docker-training1\n",
      "****************************************************\n",
      "\n",
      "_fileInputsSpec: None\n",
      "_parameterSetModel: None\n",
      "appId: mpm-docker-training1\n",
      "appVersion: dev\n",
      "archiveCorrelationId: None\n",
      "archiveOnAppError: False\n",
      "archiveSystemDir: /workdir/jobs/e0ba3f5e-6238-416f-8a51-41f454ca78a0-007/output\n",
      "archiveSystemId: tapis-vm-training1\n",
      "archiveTransactionId: None\n",
      "blockedCount: 0\n",
      "cmdPrefix: None\n",
      "coresPerNode: 1\n",
      "created: 2023-06-29T18:57:53.292620726Z\n",
      "createdby: training1\n",
      "createdbyTenant: training\n",
      "description: material point method\n",
      "dtnMountPoint: None\n",
      "dtnMountSourcePath: None\n",
      "dtnSystemId: None\n",
      "dynamicExecSystem: False\n",
      "ended: None\n",
      "execSystemConstraints: None\n",
      "execSystemExecDir: /workdir/jobs/e0ba3f5e-6238-416f-8a51-41f454ca78a0-007\n",
      "execSystemId: tapis-vm-training1\n",
      "execSystemInputDir: /workdir/jobs/e0ba3f5e-6238-416f-8a51-41f454ca78a0-007\n",
      "execSystemLogicalQueue: None\n",
      "execSystemOutputDir: /workdir/jobs/e0ba3f5e-6238-416f-8a51-41f454ca78a0-007/output\n",
      "fileInputs: []\n",
      "id: 0\n",
      "inputCorrelationId: None\n",
      "inputTransactionId: None\n",
      "isMpi: False\n",
      "jobType: FORK\n",
      "lastMessage: Job created\n",
      "lastUpdated: 2023-06-29T18:57:53.292620726Z\n",
      "maxMinutes: 10\n",
      "memoryMB: 100\n",
      "mpiCmd: None\n",
      "name: mpm-job-vm\n",
      "nodeCount: 1\n",
      "notes: {}\n",
      "owner: training1\n",
      "parameterSet: {\"appArgs\":[{\"name\":\"directoryInputFlag\",\"description\":null,\"include\":null,\"arg\":\"-f\",\"notes\":\"{}\"},{\"name\":\"directoryInput\",\"description\":null,\"include\":null,\"arg\":\"/home/cbgeo/research/mpm-benchmarks/2d/uniaxial_stress/\",\"notes\":\"{}\"}],\"containerArgs\":[],\"schedulerOptions\":[],\"envVariables\":[{\"key\":\"_tapisAppId\",\"value\":\"mpm-docker-training1\",\"description\":null},{\"key\":\"_tapisAppVersion\",\"value\":\"dev\",\"description\":null},{\"key\":\"_tapisArchiveOnAppError\",\"value\":\"false\",\"description\":null},{\"key\":\"_tapisArchiveSystemDir\",\"value\":\"/workdir/jobs/e0ba3f5e-6238-416f-8a51-41f454ca78a0-007/output\",\"description\":null},{\"key\":\"_tapisArchiveSystemId\",\"value\":\"tapis-vm-training1\",\"description\":null},{\"key\":\"_tapisCoresPerNode\",\"value\":\"1\",\"description\":null},{\"key\":\"_tapisDynamicExecSystem\",\"value\":\"false\",\"description\":null},{\"key\":\"_tapisEffectiveUserId\",\"value\":\"training1\",\"description\":null},{\"key\":\"_tapisExecSystemExecDir\",\"value\":\"/workdir/jobs/e0ba3f5e-6238-416f-8a51-41f454ca78a0-007\",\"description\":null},{\"key\":\"_tapisExecSystemId\",\"value\":\"tapis-vm-training1\",\"description\":null},{\"key\":\"_tapisExecSystemInputDir\",\"value\":\"/workdir/jobs/e0ba3f5e-6238-416f-8a51-41f454ca78a0-007\",\"description\":null},{\"key\":\"_tapisExecSystemOutputDir\",\"value\":\"/workdir/jobs/e0ba3f5e-6238-416f-8a51-41f454ca78a0-007/output\",\"description\":null},{\"key\":\"_tapisJobCreateDate\",\"value\":\"2023-06-29Z\",\"description\":null},{\"key\":\"_tapisJobCreateTime\",\"value\":\"18:57:53.292620726Z\",\"description\":null},{\"key\":\"_tapisJobCreateTimestamp\",\"value\":\"2023-06-29T18:57:53.292620726Z\",\"description\":null},{\"key\":\"_tapisJobName\",\"value\":\"mpm-job-vm\",\"description\":null},{\"key\":\"_tapisJobOwner\",\"value\":\"training1\",\"description\":null},{\"key\":\"_tapisJobUUID\",\"value\":\"e0ba3f5e-6238-416f-8a51-41f454ca78a0-007\",\"description\":null},{\"key\":\"_tapisJobWorkingDir\",\"value\":\"workdir\",\"description\":null},{\"key\":\"_tapisMaxMinutes\",\"value\":\"10\",\"description\":null},{\"key\":\"_tapisMemoryMB\",\"value\":\"100\",\"description\":null},{\"key\":\"_tapisNodes\",\"value\":\"1\",\"description\":null},{\"key\":\"_tapisSysHost\",\"value\":\"129.114.35.143\",\"description\":null},{\"key\":\"_tapisSysRootDir\",\"value\":\"/home/training1\",\"description\":null},{\"key\":\"_tapisTenant\",\"value\":\"training\",\"description\":null}],\"archiveFilter\":{\"includes\":[],\"excludes\":[],\"includeLaunchFiles\":true}}\n",
      "remoteChecksFailed: 0\n",
      "remoteChecksSuccess: 0\n",
      "remoteEnded: None\n",
      "remoteJobId: None\n",
      "remoteJobId2: None\n",
      "remoteLastStatusCheck: None\n",
      "remoteOutcome: None\n",
      "remoteQueue: None\n",
      "remoteResultInfo: None\n",
      "remoteStarted: None\n",
      "remoteSubmitRetries: 0\n",
      "remoteSubmitted: None\n",
      "sharedAppCtx: \n",
      "sharedAppCtxAttribs: None\n",
      "status: PENDING\n",
      "subscriptions: []\n",
      "tags: []\n",
      "tapisQueue: tapis.jobq.submit.DefaultQueue\n",
      "tenant: training\n",
      "uuid: e0ba3f5e-6238-416f-8a51-41f454ca78a0-007\n",
      "visible: True\n"
     ]
    }
   ],
   "source": [
    "# Get Job submission response\n",
    "print(\"****************************************************\")\n",
    "print(\"Job Submitted: \" + app_id)\n",
    "print(\"****************************************************\")\n",
    "print(job_response_vm)"
   ]
  },
  {
   "cell_type": "markdown",
   "metadata": {
    "pycharm": {
     "name": "#%% md\n"
    }
   },
   "source": [
    "### Get Jobs Listings\n"
   ]
  },
  {
   "cell_type": "code",
   "execution_count": null,
   "metadata": {
    "collapsed": false,
    "jupyter": {
     "outputs_hidden": false
    },
    "pycharm": {
     "name": "#%%\n"
    }
   },
   "outputs": [],
   "source": [
    "# Get Jobs listings\n",
    "client.jobs.getJobList()"
   ]
  },
  {
   "cell_type": "markdown",
   "metadata": {
    "pycharm": {
     "name": "#%% md\n"
    }
   },
   "source": [
    "### Get Job UUID from the submission response\n"
   ]
  },
  {
   "cell_type": "code",
   "execution_count": 83,
   "metadata": {
    "collapsed": false,
    "jupyter": {
     "outputs_hidden": false
    },
    "pycharm": {
     "name": "#%%\n"
    }
   },
   "outputs": [
    {
     "name": "stdout",
     "output_type": "stream",
     "text": [
      "****************************************************\n",
      "Job UUID: e0ba3f5e-6238-416f-8a51-41f454ca78a0-007\n",
      "****************************************************\n"
     ]
    }
   ],
   "source": [
    "# Get job uuid from the job submission response\n",
    "print(\"****************************************************\")\n",
    "job_uuid_vm=job_response_vm.uuid\n",
    "print(\"Job UUID: \" + job_uuid_vm)\n",
    "print(\"****************************************************\")"
   ]
  },
  {
   "cell_type": "markdown",
   "metadata": {
    "pycharm": {
     "name": "#%% md\n"
    }
   },
   "source": [
    "### Check the status of the job\n"
   ]
  },
  {
   "cell_type": "code",
   "execution_count": 85,
   "metadata": {
    "collapsed": false,
    "jupyter": {
     "outputs_hidden": false
    },
    "pycharm": {
     "name": "#%%\n"
    }
   },
   "outputs": [
    {
     "name": "stdout",
     "output_type": "stream",
     "text": [
      "****************************************************\n",
      "\n",
      "status: FINISHED\n",
      "****************************************************\n"
     ]
    }
   ],
   "source": [
    "# Check the status of the job\n",
    "print(\"****************************************************\")\n",
    "print(client.jobs.getJobStatus(jobUuid=job_uuid_vm))\n",
    "print(\"****************************************************\")"
   ]
  },
  {
   "cell_type": "markdown",
   "metadata": {
    "pycharm": {
     "name": "#%% md\n"
    }
   },
   "source": [
    "### Download output of the job\n"
   ]
  },
  {
   "cell_type": "code",
   "execution_count": 86,
   "metadata": {
    "collapsed": false,
    "jupyter": {
     "outputs_hidden": false
    },
    "pycharm": {
     "is_executing": true,
     "name": "#%%\n"
    }
   },
   "outputs": [
    {
     "name": "stdout",
     "output_type": "stream",
     "text": [
      "Job Output file:\n",
      "****************************************************\n",
      "b'[2023-06-29 18:58:08.701] [main] [info] git revision: 53fcb7609375fd44bf3481d24ee18bfdf0393adb\\n[2023-06-29 18:58:08.703] [MPMBase] [warning] ../include/solvers/mpm_base.tcc #71: Velocity update parameter is not specified, using default as false\\n[2023-06-29 18:58:08.703] [MPMBase] [warning] ../include/solvers/mpm_base.tcc #94: No math functions are defined\\n[2023-06-29 18:58:08.703] [MPMBase] [warning] ../include/solvers/mpm_base.tcc #135: No VTK variables were specified, none will be generated\\n[2023-06-29 18:58:08.703] [MPMBase] [warning] ../include/solvers/mpm_base.tcc #166: No VTK statevariable were specified, none will be generated\\n[2023-06-29 18:58:08.703] [MPMExplicit] [info] MPM analysis type MPMExplicit2D\\n[2023-06-29 18:58:08.703] [MPMExplicit] [warning] ../include/solvers/mpm_base.tcc #193: Check duplicates, not specified setting default as true\\n[2023-06-29 18:58:08.704] [MPMExplicit] [info] Rank 0 Read nodes: 0 ms\\n[2023-06-29 18:58:08.704] [MPMExplicit] [warning] #831: Euler angles are undefined Euler angles JSON not found \\n[2023-06-29 18:58:08.704] [MPMExplicit] [warning] #935: Friction conditions are undefined Friction constraints JSON not found \\n[2023-06-29 18:58:08.705] [MPMExplicit] [warning] #960: Cell entity sets are undefined Cell sets are not properly assigned \\n[2023-06-29 18:58:08.705] [MPMExplicit] [info] Rank 0 Read cells: 1 ms\\n[2023-06-29 18:58:08.706] [MPMExplicit] [info] Rank 0 Generate particles: 0 ms\\n[2023-06-29 18:58:08.706] [MPMExplicit] [warning] #987: Particle cells are undefined Particle cells JSON not found \\n[2023-06-29 18:58:08.706] [MPMExplicit] [info] Rank 0 Locate particles: 0 ms\\n[2023-06-29 18:58:08.706] [MPMExplicit] [warning] #1012: Particle volumes are undefined Particle volumes JSON not found \\n[2023-06-29 18:58:08.706] [MPMExplicit] [warning] #1082: Particle stresses are undefined Particle stresses JSON not found \\n[2023-06-29 18:58:08.706] [MPMExplicit] [info] Rank 0 Read volume, velocity and stresses: 0 ms\\n[2023-06-29 18:58:08.707] [MPMExplicit] [warning] #1109: Particle sets are undefined Particle set creation failed \\n[2023-06-29 18:58:08.707] [MPMExplicit] [warning] #1053: Particle velocity constraints are undefined Particle velocity constraints JSON not found \\n[2023-06-29 18:58:08.707] [MPMExplicit] [info] Rank 0 Create particle sets: 0 ms\\n[2023-06-29 18:58:08.707] [MPMExplicit] [warning] ../include/solvers/mpm_base.tcc #388: Material sets are not specified\\n[2023-06-29 18:58:08.707] [MPMExplicit] [warning] No particle surface traction is defined for the analysis\\n[2023-06-29 18:58:08.707] [MPMExplicit] [warning] No concentrated nodal force is defined for the analysis\\n[2023-06-29 18:58:08.707] [MPMExplicit] [info] Step: 0 of 10.\\n\\n[2023-06-29 18:58:08.721] [MPMExplicit] [info] Step: 1 of 10.\\n\\n[2023-06-29 18:58:08.729] [MPMExplicit] [info] Step: 2 of 10.\\n\\n[2023-06-29 18:58:08.735] [MPMExplicit] [info] Step: 3 of 10.\\n\\n[2023-06-29 18:58:08.742] [MPMExplicit] [info] Step: 4 of 10.\\n\\n[2023-06-29 18:58:08.750] [MPMExplicit] [info] Step: 5 of 10.\\n\\n[2023-06-29 18:58:08.757] [MPMExplicit] [info] Step: 6 of 10.\\n\\n[2023-06-29 18:58:08.763] [MPMExplicit] [info] Step: 7 of 10.\\n\\n[2023-06-29 18:58:08.771] [MPMExplicit] [info] Step: 8 of 10.\\n\\n[2023-06-29 18:58:08.778] [MPMExplicit] [info] Step: 9 of 10.\\n\\n[2023-06-29 18:58:08.784] [MPMExplicit] [info] Rank 0, Explicit USF solver duration: 77 ms\\n'\n",
      "****************************************************\n"
     ]
    }
   ],
   "source": [
    "# Once the job is in the FINISHED state, you can download output of the job\n",
    "print(\"Job Output file:\")\n",
    "\n",
    "print(\"****************************************************\")\n",
    "jobs_output_vm= client.jobs.getJobOutputDownload(jobUuid=job_uuid_vm,outputPath='stdout')\n",
    "print(jobs_output_vm)\n",
    "print(\"****************************************************\")"
   ]
  },
  {
   "cell_type": "markdown",
   "metadata": {
    "pycharm": {
     "name": "#%% md\n"
    }
   },
   "source": [
    "### Cancel a job\n"
   ]
  },
  {
   "cell_type": "code",
   "execution_count": null,
   "metadata": {
    "collapsed": false,
    "jupyter": {
     "outputs_hidden": false
    },
    "pycharm": {
     "name": "#%%\n"
    }
   },
   "outputs": [],
   "source": [
    "# If necessary, you can cancel a long running job.\n",
    "# To cancel a running job\n",
    "# client.jobs.cancelJob(jobUuid=job_uuid_vm)"
   ]
  },
  {
   "cell_type": "markdown",
   "metadata": {
    "pycharm": {
     "name": "#%% md\n"
    }
   },
   "source": [
    "## Part 2: Run a Batch Job on HPC type host\n",
    "\n",
    "Using the same Tapis application we can also run the image classifier as a batch job on an HPC type host\n"
   ]
  },
  {
   "cell_type": "code",
   "execution_count": 87,
   "metadata": {
    "collapsed": false,
    "jupyter": {
     "outputs_hidden": false
    },
    "pycharm": {
     "name": "#%%\n"
    }
   },
   "outputs": [],
   "source": [
    "# Run MPM app on the HPC Machine\n",
    "\n",
    "# Submit a job\n",
    "job_response_hpc=client.jobs.submitJob(name='mpm-hpc',description='mpm',appId=app_id,execSystemId=system_id_hpc,appVersion= 'dev')"
   ]
  },
  {
   "cell_type": "markdown",
   "metadata": {
    "pycharm": {
     "name": "#%% md\n"
    }
   },
   "source": [
    "### Get Job submission response\n"
   ]
  },
  {
   "cell_type": "code",
   "execution_count": 88,
   "metadata": {
    "collapsed": false,
    "jupyter": {
     "outputs_hidden": false
    },
    "pycharm": {
     "name": "#%%\n"
    }
   },
   "outputs": [
    {
     "name": "stdout",
     "output_type": "stream",
     "text": [
      "****************************************************\n",
      "Job Submitted: mpm-docker-training1\n",
      "****************************************************\n",
      "\n",
      "_fileInputsSpec: None\n",
      "_parameterSetModel: None\n",
      "appId: mpm-docker-training1\n",
      "appVersion: dev\n",
      "archiveCorrelationId: None\n",
      "archiveOnAppError: False\n",
      "archiveSystemDir: /workdir/jobs/8fc4cee0-5b45-48ac-ba0a-79efcb9ea700-007/output\n",
      "archiveSystemId: tapis-hpc-training1\n",
      "archiveTransactionId: None\n",
      "blockedCount: 0\n",
      "cmdPrefix: None\n",
      "coresPerNode: 1\n",
      "created: 2023-06-29T19:00:01.063780167Z\n",
      "createdby: training1\n",
      "createdbyTenant: training\n",
      "description: mpm\n",
      "dtnMountPoint: None\n",
      "dtnMountSourcePath: None\n",
      "dtnSystemId: None\n",
      "dynamicExecSystem: False\n",
      "ended: None\n",
      "execSystemConstraints: None\n",
      "execSystemExecDir: /workdir/jobs/8fc4cee0-5b45-48ac-ba0a-79efcb9ea700-007\n",
      "execSystemId: tapis-hpc-training1\n",
      "execSystemInputDir: /workdir/jobs/8fc4cee0-5b45-48ac-ba0a-79efcb9ea700-007\n",
      "execSystemLogicalQueue: None\n",
      "execSystemOutputDir: /workdir/jobs/8fc4cee0-5b45-48ac-ba0a-79efcb9ea700-007/output\n",
      "fileInputs: []\n",
      "id: 0\n",
      "inputCorrelationId: None\n",
      "inputTransactionId: None\n",
      "isMpi: False\n",
      "jobType: FORK\n",
      "lastMessage: Job created\n",
      "lastUpdated: 2023-06-29T19:00:01.063780167Z\n",
      "maxMinutes: 10\n",
      "memoryMB: 100\n",
      "mpiCmd: None\n",
      "name: mpm-hpc\n",
      "nodeCount: 1\n",
      "notes: {}\n",
      "owner: training1\n",
      "parameterSet: {\"appArgs\":[{\"name\":\"directoryInputFlag\",\"description\":null,\"include\":null,\"arg\":\"-f\",\"notes\":\"{}\"},{\"name\":\"directoryInput\",\"description\":null,\"include\":null,\"arg\":\"/home/cbgeo/research/mpm-benchmarks/2d/uniaxial_stress/\",\"notes\":\"{}\"}],\"containerArgs\":[],\"schedulerOptions\":[{\"name\":\"synthetic_tapis_profile\",\"description\":\"The tapis-profile value set in execution system.\",\"include\":true,\"arg\":\"--tapis-profile tacc\",\"notes\":null}],\"envVariables\":[{\"key\":\"_tapisAppId\",\"value\":\"mpm-docker-training1\",\"description\":null},{\"key\":\"_tapisAppVersion\",\"value\":\"dev\",\"description\":null},{\"key\":\"_tapisArchiveOnAppError\",\"value\":\"false\",\"description\":null},{\"key\":\"_tapisArchiveSystemDir\",\"value\":\"/workdir/jobs/8fc4cee0-5b45-48ac-ba0a-79efcb9ea700-007/output\",\"description\":null},{\"key\":\"_tapisArchiveSystemId\",\"value\":\"tapis-hpc-training1\",\"description\":null},{\"key\":\"_tapisCoresPerNode\",\"value\":\"1\",\"description\":null},{\"key\":\"_tapisDynamicExecSystem\",\"value\":\"false\",\"description\":null},{\"key\":\"_tapisEffectiveUserId\",\"value\":\"training1\",\"description\":null},{\"key\":\"_tapisExecSystemExecDir\",\"value\":\"/workdir/jobs/8fc4cee0-5b45-48ac-ba0a-79efcb9ea700-007\",\"description\":null},{\"key\":\"_tapisExecSystemId\",\"value\":\"tapis-hpc-training1\",\"description\":null},{\"key\":\"_tapisExecSystemInputDir\",\"value\":\"/workdir/jobs/8fc4cee0-5b45-48ac-ba0a-79efcb9ea700-007\",\"description\":null},{\"key\":\"_tapisExecSystemOutputDir\",\"value\":\"/workdir/jobs/8fc4cee0-5b45-48ac-ba0a-79efcb9ea700-007/output\",\"description\":null},{\"key\":\"_tapisJobCreateDate\",\"value\":\"2023-06-29Z\",\"description\":null},{\"key\":\"_tapisJobCreateTime\",\"value\":\"19:00:01.063780167Z\",\"description\":null},{\"key\":\"_tapisJobCreateTimestamp\",\"value\":\"2023-06-29T19:00:01.063780167Z\",\"description\":null},{\"key\":\"_tapisJobName\",\"value\":\"mpm-hpc\",\"description\":null},{\"key\":\"_tapisJobOwner\",\"value\":\"training1\",\"description\":null},{\"key\":\"_tapisJobUUID\",\"value\":\"8fc4cee0-5b45-48ac-ba0a-79efcb9ea700-007\",\"description\":null},{\"key\":\"_tapisJobWorkingDir\",\"value\":\"workdir\",\"description\":null},{\"key\":\"_tapisMaxMinutes\",\"value\":\"10\",\"description\":null},{\"key\":\"_tapisMemoryMB\",\"value\":\"100\",\"description\":null},{\"key\":\"_tapisNodes\",\"value\":\"1\",\"description\":null},{\"key\":\"_tapisSysBatchScheduler\",\"value\":\"SLURM\",\"description\":null},{\"key\":\"_tapisSysHost\",\"value\":\"129.114.35.143\",\"description\":null},{\"key\":\"_tapisSysRootDir\",\"value\":\"/home/training1\",\"description\":null},{\"key\":\"_tapisTenant\",\"value\":\"training\",\"description\":null}],\"archiveFilter\":{\"includes\":[],\"excludes\":[],\"includeLaunchFiles\":true}}\n",
      "remoteChecksFailed: 0\n",
      "remoteChecksSuccess: 0\n",
      "remoteEnded: None\n",
      "remoteJobId: None\n",
      "remoteJobId2: None\n",
      "remoteLastStatusCheck: None\n",
      "remoteOutcome: None\n",
      "remoteQueue: None\n",
      "remoteResultInfo: None\n",
      "remoteStarted: None\n",
      "remoteSubmitRetries: 0\n",
      "remoteSubmitted: None\n",
      "sharedAppCtx: \n",
      "sharedAppCtxAttribs: None\n",
      "status: PENDING\n",
      "subscriptions: []\n",
      "tags: []\n",
      "tapisQueue: tapis.jobq.submit.DefaultQueue\n",
      "tenant: training\n",
      "uuid: 8fc4cee0-5b45-48ac-ba0a-79efcb9ea700-007\n",
      "visible: True\n"
     ]
    }
   ],
   "source": [
    "print(\"****************************************************\")\n",
    "print(\"Job Submitted: \" + app_id)\n",
    "print(\"****************************************************\")\n",
    "print(job_response_hpc)"
   ]
  },
  {
   "cell_type": "markdown",
   "metadata": {
    "pycharm": {
     "name": "#%% md\n"
    }
   },
   "source": [
    "### Check job status\n"
   ]
  },
  {
   "cell_type": "code",
   "execution_count": 93,
   "metadata": {
    "collapsed": false,
    "jupyter": {
     "outputs_hidden": false
    },
    "pycharm": {
     "name": "#%%\n"
    }
   },
   "outputs": [
    {
     "name": "stdout",
     "output_type": "stream",
     "text": [
      "****************************************************\n",
      "\n",
      "status: FINISHED\n",
      "****************************************************\n"
     ]
    }
   ],
   "source": [
    "# Check the status of the job\n",
    "print(\"****************************************************\")\n",
    "job_uuid_hpc=job_response_hpc.uuid\n",
    "print(client.jobs.getJobStatus(jobUuid=job_uuid_hpc))\n",
    "print(\"****************************************************\")"
   ]
  },
  {
   "cell_type": "markdown",
   "metadata": {
    "pycharm": {
     "name": "#%% md\n"
    }
   },
   "source": [
    "### Download output of the HPC job\n"
   ]
  },
  {
   "cell_type": "code",
   "execution_count": 94,
   "metadata": {
    "collapsed": false,
    "jupyter": {
     "outputs_hidden": false
    },
    "pycharm": {
     "name": "#%%\n"
    }
   },
   "outputs": [
    {
     "name": "stdout",
     "output_type": "stream",
     "text": [
      "Job Output file:\n",
      "****************************************************\n",
      "b'[2023-06-29 19:00:15.628] [main] [info] git revision: 53fcb7609375fd44bf3481d24ee18bfdf0393adb\\n[2023-06-29 19:00:15.630] [MPMBase] [warning] ../include/solvers/mpm_base.tcc #71: Velocity update parameter is not specified, using default as false\\n[2023-06-29 19:00:15.630] [MPMBase] [warning] ../include/solvers/mpm_base.tcc #94: No math functions are defined\\n[2023-06-29 19:00:15.630] [MPMBase] [warning] ../include/solvers/mpm_base.tcc #135: No VTK variables were specified, none will be generated\\n[2023-06-29 19:00:15.630] [MPMBase] [warning] ../include/solvers/mpm_base.tcc #166: No VTK statevariable were specified, none will be generated\\n[2023-06-29 19:00:15.630] [MPMExplicit] [info] MPM analysis type MPMExplicit2D\\n[2023-06-29 19:00:15.630] [MPMExplicit] [warning] ../include/solvers/mpm_base.tcc #193: Check duplicates, not specified setting default as true\\n[2023-06-29 19:00:15.630] [MPMExplicit] [info] Rank 0 Read nodes: 0 ms\\n[2023-06-29 19:00:15.630] [MPMExplicit] [warning] #831: Euler angles are undefined Euler angles JSON not found \\n[2023-06-29 19:00:15.631] [MPMExplicit] [warning] #935: Friction conditions are undefined Friction constraints JSON not found \\n[2023-06-29 19:00:15.632] [MPMExplicit] [warning] #960: Cell entity sets are undefined Cell sets are not properly assigned \\n[2023-06-29 19:00:15.632] [MPMExplicit] [info] Rank 0 Read cells: 1 ms\\n[2023-06-29 19:00:15.632] [MPMExplicit] [info] Rank 0 Generate particles: 0 ms\\n[2023-06-29 19:00:15.632] [MPMExplicit] [warning] #987: Particle cells are undefined Particle cells JSON not found \\n[2023-06-29 19:00:15.632] [MPMExplicit] [info] Rank 0 Locate particles: 0 ms\\n[2023-06-29 19:00:15.632] [MPMExplicit] [warning] #1012: Particle volumes are undefined Particle volumes JSON not found \\n[2023-06-29 19:00:15.632] [MPMExplicit] [warning] #1082: Particle stresses are undefined Particle stresses JSON not found \\n[2023-06-29 19:00:15.632] [MPMExplicit] [info] Rank 0 Read volume, velocity and stresses: 0 ms\\n[2023-06-29 19:00:15.633] [MPMExplicit] [warning] #1109: Particle sets are undefined Particle set creation failed \\n[2023-06-29 19:00:15.633] [MPMExplicit] [warning] #1053: Particle velocity constraints are undefined Particle velocity constraints JSON not found \\n[2023-06-29 19:00:15.633] [MPMExplicit] [info] Rank 0 Create particle sets: 0 ms\\n[2023-06-29 19:00:15.633] [MPMExplicit] [warning] ../include/solvers/mpm_base.tcc #388: Material sets are not specified\\n[2023-06-29 19:00:15.633] [MPMExplicit] [warning] No particle surface traction is defined for the analysis\\n[2023-06-29 19:00:15.633] [MPMExplicit] [warning] No concentrated nodal force is defined for the analysis\\n[2023-06-29 19:00:15.633] [MPMExplicit] [info] Step: 0 of 10.\\n\\n[2023-06-29 19:00:15.646] [MPMExplicit] [info] Step: 1 of 10.\\n\\n[2023-06-29 19:00:15.653] [MPMExplicit] [info] Step: 2 of 10.\\n\\n[2023-06-29 19:00:15.659] [MPMExplicit] [info] Step: 3 of 10.\\n\\n[2023-06-29 19:00:15.666] [MPMExplicit] [info] Step: 4 of 10.\\n\\n[2023-06-29 19:00:15.672] [MPMExplicit] [info] Step: 5 of 10.\\n\\n[2023-06-29 19:00:15.678] [MPMExplicit] [info] Step: 6 of 10.\\n\\n[2023-06-29 19:00:15.684] [MPMExplicit] [info] Step: 7 of 10.\\n\\n[2023-06-29 19:00:15.689] [MPMExplicit] [info] Step: 8 of 10.\\n\\n[2023-06-29 19:00:15.695] [MPMExplicit] [info] Step: 9 of 10.\\n\\n[2023-06-29 19:00:15.701] [MPMExplicit] [info] Rank 0, Explicit USF solver duration: 68 ms\\n'\n",
      "****************************************************\n"
     ]
    }
   ],
   "source": [
    "# Download output of the job\n",
    "print(\"Job Output file:\")\n",
    "\n",
    "print(\"****************************************************\")\n",
    "jobs_output_hpc= client.jobs.getJobOutputDownload(jobUuid=job_uuid_hpc,outputPath='stdout')\n",
    "print(jobs_output_hpc)\n",
    "print(\"****************************************************\")"
   ]
  },
  {
   "cell_type": "code",
   "execution_count": null,
   "metadata": {},
   "outputs": [],
   "source": []
  }
 ],
 "metadata": {
  "kernelspec": {
   "display_name": "Python 3 (ipykernel)",
   "language": "python",
   "name": "python3"
  },
  "language_info": {
   "codemirror_mode": {
    "name": "ipython",
    "version": 3
   },
   "file_extension": ".py",
   "mimetype": "text/x-python",
   "name": "python",
   "nbconvert_exporter": "python",
   "pygments_lexer": "ipython3",
   "version": "3.10.5"
  }
 },
 "nbformat": 4,
 "nbformat_minor": 4
}
