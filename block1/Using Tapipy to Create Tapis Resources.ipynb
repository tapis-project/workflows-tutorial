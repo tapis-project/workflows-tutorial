{
 "cells": [
  {
   "cell_type": "markdown",
   "source": [
    "# Using tapipy to Create Tapis Resources\n",
    "\n",
    "In this notebook, we explore the `tapipy` library's support for executing actor containers on the TACC Abaco Cloud. This tutorial assumes the user has a TACC account and access to the TACC Cloud APIs via a set of OAuth API keys. Full details on getting the required accounts can be found on Abaco's Getting Started Guide here: https://abaco.readthedocs.io/en/latest/getting-started/index.html#account-creation-and-software-installation\n",
    "\n",
    "## Installation\n",
    "\n",
    "The `tapipy` library is a Python library for interacting with TACC's Tapis API platform. It can be installed directly from PyPI using pip - `pip install tapipy`.\n"
   ],
   "metadata": {}
  },
  {
   "cell_type": "markdown",
   "source": [
    "## Importing and Instantiating the Tapis object\n",
    "\n",
    "The primary functionality is accessed through a Tapis client, a Python object containing methods for accessing the primary APIs within the Tapis framework. The first step is to import and instantiate one of these objects.\n",
    "\n",
    "When instantiating the `Tapis` object, we must provide the `api_server` to interact with. This is because Tapis is a multi-tenant platform and serves different projects at different base URLs. To interact with the primary \"TACC\" tenant, use `api_server=https://api.tacc.utexas.edu`.\n",
    "\n",
    "We also need to supply the `Tapis` constructor with some authentication credentials. Here we have several options, the simplest of which is to just provide an OAuth access token via the `token` parameter. You can also provide a TACC `username` and `password`, together with an `api_key` and `api_secret` and use the `Tapis` object to generate an access token. For now, we'll just assume we have an access token already."
   ],
   "metadata": {}
  },
  {
   "cell_type": "code",
   "execution_count": 3,
   "source": [
    "from tapipy.tapis import Tapis\n",
    "t = Tapis(api_server='https://tacc.tapis.io', username='<insert_tacc_username>', password='<insert_tacc_password>')"
   ],
   "outputs": [],
   "metadata": {}
  },
  {
   "cell_type": "markdown",
   "source": [
    "## Conclusion\n"
   ],
   "metadata": {}
  }
 ],
 "metadata": {
  "kernelspec": {
   "display_name": "Python 3",
   "language": "python",
   "name": "python3"
  },
  "language_info": {
   "codemirror_mode": {
    "name": "ipython",
    "version": 3
   },
   "file_extension": ".py",
   "mimetype": "text/x-python",
   "name": "python",
   "nbconvert_exporter": "python",
   "pygments_lexer": "ipython3",
   "version": "3.5.2"
  }
 },
 "nbformat": 4,
 "nbformat_minor": 2
}